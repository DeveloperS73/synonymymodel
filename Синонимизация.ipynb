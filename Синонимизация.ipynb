{
  "nbformat": 4,
  "nbformat_minor": 0,
  "metadata": {
    "colab": {
      "provenance": []
    },
    "kernelspec": {
      "name": "python3",
      "display_name": "Python 3"
    },
    "language_info": {
      "name": "python"
    }
  },
  "cells": [
    {
      "cell_type": "code",
      "execution_count": null,
      "metadata": {
        "colab": {
          "base_uri": "https://localhost:8080/"
        },
        "id": "8kkNELAAoZF9",
        "outputId": "d2892fcc-4d48-4589-9253-e470ce0b24e4"
      },
      "outputs": [
        {
          "output_type": "stream",
          "name": "stdout",
          "text": [
            "Looking in indexes: https://pypi.org/simple, https://us-python.pkg.dev/colab-wheels/public/simple/\n",
            "Collecting sentence-transformers\n",
            "  Downloading sentence-transformers-2.2.2.tar.gz (85 kB)\n",
            "\u001b[K     |████████████████████████████████| 85 kB 4.1 MB/s \n",
            "\u001b[?25hCollecting transformers<5.0.0,>=4.6.0\n",
            "  Downloading transformers-4.25.1-py3-none-any.whl (5.8 MB)\n",
            "\u001b[K     |████████████████████████████████| 5.8 MB 70.7 MB/s \n",
            "\u001b[?25hRequirement already satisfied: tqdm in /usr/local/lib/python3.8/dist-packages (from sentence-transformers) (4.64.1)\n",
            "Requirement already satisfied: torch>=1.6.0 in /usr/local/lib/python3.8/dist-packages (from sentence-transformers) (1.13.0+cu116)\n",
            "Requirement already satisfied: torchvision in /usr/local/lib/python3.8/dist-packages (from sentence-transformers) (0.14.0+cu116)\n",
            "Requirement already satisfied: numpy in /usr/local/lib/python3.8/dist-packages (from sentence-transformers) (1.21.6)\n",
            "Requirement already satisfied: scikit-learn in /usr/local/lib/python3.8/dist-packages (from sentence-transformers) (1.0.2)\n",
            "Requirement already satisfied: scipy in /usr/local/lib/python3.8/dist-packages (from sentence-transformers) (1.7.3)\n",
            "Requirement already satisfied: nltk in /usr/local/lib/python3.8/dist-packages (from sentence-transformers) (3.7)\n",
            "Collecting sentencepiece\n",
            "  Downloading sentencepiece-0.1.97-cp38-cp38-manylinux_2_17_x86_64.manylinux2014_x86_64.whl (1.3 MB)\n",
            "\u001b[K     |████████████████████████████████| 1.3 MB 63.6 MB/s \n",
            "\u001b[?25hCollecting huggingface-hub>=0.4.0\n",
            "  Downloading huggingface_hub-0.11.1-py3-none-any.whl (182 kB)\n",
            "\u001b[K     |████████████████████████████████| 182 kB 73.4 MB/s \n",
            "\u001b[?25hRequirement already satisfied: packaging>=20.9 in /usr/local/lib/python3.8/dist-packages (from huggingface-hub>=0.4.0->sentence-transformers) (21.3)\n",
            "Requirement already satisfied: pyyaml>=5.1 in /usr/local/lib/python3.8/dist-packages (from huggingface-hub>=0.4.0->sentence-transformers) (6.0)\n",
            "Requirement already satisfied: typing-extensions>=3.7.4.3 in /usr/local/lib/python3.8/dist-packages (from huggingface-hub>=0.4.0->sentence-transformers) (4.4.0)\n",
            "Requirement already satisfied: requests in /usr/local/lib/python3.8/dist-packages (from huggingface-hub>=0.4.0->sentence-transformers) (2.23.0)\n",
            "Requirement already satisfied: filelock in /usr/local/lib/python3.8/dist-packages (from huggingface-hub>=0.4.0->sentence-transformers) (3.8.2)\n",
            "Requirement already satisfied: pyparsing!=3.0.5,>=2.0.2 in /usr/local/lib/python3.8/dist-packages (from packaging>=20.9->huggingface-hub>=0.4.0->sentence-transformers) (3.0.9)\n",
            "Requirement already satisfied: regex!=2019.12.17 in /usr/local/lib/python3.8/dist-packages (from transformers<5.0.0,>=4.6.0->sentence-transformers) (2022.6.2)\n",
            "Collecting tokenizers!=0.11.3,<0.14,>=0.11.1\n",
            "  Downloading tokenizers-0.13.2-cp38-cp38-manylinux_2_17_x86_64.manylinux2014_x86_64.whl (7.6 MB)\n",
            "\u001b[K     |████████████████████████████████| 7.6 MB 56.9 MB/s \n",
            "\u001b[?25hRequirement already satisfied: click in /usr/local/lib/python3.8/dist-packages (from nltk->sentence-transformers) (7.1.2)\n",
            "Requirement already satisfied: joblib in /usr/local/lib/python3.8/dist-packages (from nltk->sentence-transformers) (1.2.0)\n",
            "Requirement already satisfied: chardet<4,>=3.0.2 in /usr/local/lib/python3.8/dist-packages (from requests->huggingface-hub>=0.4.0->sentence-transformers) (3.0.4)\n",
            "Requirement already satisfied: urllib3!=1.25.0,!=1.25.1,<1.26,>=1.21.1 in /usr/local/lib/python3.8/dist-packages (from requests->huggingface-hub>=0.4.0->sentence-transformers) (1.24.3)\n",
            "Requirement already satisfied: idna<3,>=2.5 in /usr/local/lib/python3.8/dist-packages (from requests->huggingface-hub>=0.4.0->sentence-transformers) (2.10)\n",
            "Requirement already satisfied: certifi>=2017.4.17 in /usr/local/lib/python3.8/dist-packages (from requests->huggingface-hub>=0.4.0->sentence-transformers) (2022.12.7)\n",
            "Requirement already satisfied: threadpoolctl>=2.0.0 in /usr/local/lib/python3.8/dist-packages (from scikit-learn->sentence-transformers) (3.1.0)\n",
            "Requirement already satisfied: pillow!=8.3.*,>=5.3.0 in /usr/local/lib/python3.8/dist-packages (from torchvision->sentence-transformers) (7.1.2)\n",
            "Building wheels for collected packages: sentence-transformers\n",
            "  Building wheel for sentence-transformers (setup.py) ... \u001b[?25l\u001b[?25hdone\n",
            "  Created wheel for sentence-transformers: filename=sentence_transformers-2.2.2-py3-none-any.whl size=125938 sha256=030c95337cbd15670f9a3a8922ac0ac3ed67a7c9f4abae9f296deb4e94e95f9b\n",
            "  Stored in directory: /root/.cache/pip/wheels/5e/6f/8c/d88aec621f3f542d26fac0342bef5e693335d125f4e54aeffe\n",
            "Successfully built sentence-transformers\n",
            "Installing collected packages: tokenizers, huggingface-hub, transformers, sentencepiece, sentence-transformers\n",
            "Successfully installed huggingface-hub-0.11.1 sentence-transformers-2.2.2 sentencepiece-0.1.97 tokenizers-0.13.2 transformers-4.25.1\n"
          ]
        }
      ],
      "source": [
        "pip install -U sentence-transformers"
      ]
    },
    {
      "cell_type": "code",
      "source": [
        "import sentence_transformers\n",
        "\n",
        "sentences = [\"Кошка ловит мышку\", \"Кошка ловит кайф\"]\n",
        "\n",
        "model = sentence_transformers.SentenceTransformer('inkoziev/sbert_synonymy')\n",
        "embeddings = model.encode(sentences)\n",
        "\n",
        "s = sentence_transformers.util.cos_sim(a=embeddings[0], b=embeddings[1])\n",
        "print('Вероятность смыслового совпадения:', s)"
      ],
      "metadata": {
        "colab": {
          "base_uri": "https://localhost:8080/"
        },
        "id": "2jWEKjBVsC3i",
        "outputId": "750a8a67-38ea-45de-d637-b1eecfc6c902"
      },
      "execution_count": null,
      "outputs": [
        {
          "output_type": "stream",
          "name": "stdout",
          "text": [
            "Вероятность смыслового совпадения: tensor([[0.5181]])\n"
          ]
        }
      ]
    },
    {
      "cell_type": "code",
      "source": [
        "sentences = [\"Люк вырос на Татуине\", \"Энакин родился на Татуине\"]\n",
        "embeddings = model.encode(sentences)\n",
        "s = sentence_transformers.util.cos_sim(a=embeddings[0], b=embeddings[1])\n",
        "print('Вероятность смыслового совпадения:', s)"
      ],
      "metadata": {
        "colab": {
          "base_uri": "https://localhost:8080/"
        },
        "id": "eedNtdVnvJlz",
        "outputId": "0d9b28f1-53da-4ce1-b5a4-51005d765bd8"
      },
      "execution_count": null,
      "outputs": [
        {
          "output_type": "stream",
          "name": "stdout",
          "text": [
            "Вероятность смыслового совпадения: tensor([[0.5941]])\n"
          ]
        }
      ]
    },
    {
      "cell_type": "markdown",
      "source": [
        "Как модель переводит фразу в вектор?"
      ],
      "metadata": {
        "id": "s_SZtu59wrOp"
      }
    },
    {
      "cell_type": "code",
      "source": [
        "import torch\n",
        "from transformers import AutoTokenizer, AutoModel\n",
        "tokenizer = AutoTokenizer.from_pretrained(\"cointegrated/rubert-tiny2\")\n",
        "model = AutoModel.from_pretrained(\"cointegrated/rubert-tiny2\")\n",
        "# model.cuda()  # uncomment it if you have a GPU\n",
        "\n",
        "def embed_bert_cls(text, model, tokenizer):\n",
        "    t = tokenizer(text, padding=True, truncation=True, return_tensors='pt')\n",
        "    with torch.no_grad():\n",
        "        model_output = model(**{k: v.to(model.device) for k, v in t.items()})\n",
        "    embeddings = model_output.last_hidden_state[:, 0, :]\n",
        "    embeddings = torch.nn.functional.normalize(embeddings)\n",
        "    return embeddings[0].cpu().numpy()\n",
        "\n",
        "print(embed_bert_cls('Привет мир', model, tokenizer))\n",
        "# (312,)\n"
      ],
      "metadata": {
        "colab": {
          "base_uri": "https://localhost:8080/"
        },
        "id": "n41E3_5awxok",
        "outputId": "1dffaecf-56b2-456a-959c-182ccd4bbb85"
      },
      "execution_count": null,
      "outputs": [
        {
          "output_type": "stream",
          "name": "stderr",
          "text": [
            "Some weights of the model checkpoint at cointegrated/rubert-tiny2 were not used when initializing BertModel: ['cls.predictions.transform.dense.bias', 'cls.predictions.decoder.weight', 'cls.predictions.decoder.bias', 'cls.predictions.transform.dense.weight', 'cls.seq_relationship.weight', 'cls.predictions.transform.LayerNorm.bias', 'cls.predictions.bias', 'cls.seq_relationship.bias', 'cls.predictions.transform.LayerNorm.weight']\n",
            "- This IS expected if you are initializing BertModel from the checkpoint of a model trained on another task or with another architecture (e.g. initializing a BertForSequenceClassification model from a BertForPreTraining model).\n",
            "- This IS NOT expected if you are initializing BertModel from the checkpoint of a model that you expect to be exactly identical (initializing a BertForSequenceClassification model from a BertForSequenceClassification model).\n"
          ]
        },
        {
          "output_type": "stream",
          "name": "stdout",
          "text": [
            "[ 5.09800501e-02  1.65839177e-02 -3.21552381e-02 -8.25856477e-02\n",
            "  2.56353207e-02 -3.26901488e-02  1.83859095e-03  3.43451463e-02\n",
            " -6.57730326e-02 -6.95627928e-03  1.18180551e-02  1.14217959e-02\n",
            "  1.02056727e-01  4.17947173e-02  4.06026021e-02 -4.49391380e-02\n",
            "  8.06396976e-02  4.05419506e-02 -1.02581540e-02  5.30341007e-02\n",
            " -6.34026574e-03  4.31331955e-02 -1.67171210e-02  4.53391224e-02\n",
            "  6.47425130e-02  3.35611813e-02  9.96403676e-03  1.43109579e-02\n",
            " -2.24633869e-02  3.96983698e-02 -3.88468220e-03 -6.52272574e-05\n",
            "  8.33482817e-02  2.28116345e-02 -7.81654194e-02  7.81191736e-02\n",
            "  3.29820998e-02 -7.97286779e-02 -8.43310878e-02 -6.17775321e-02\n",
            " -1.40592121e-02  9.66068506e-02  2.89005376e-02 -2.52491273e-02\n",
            "  5.15713990e-02 -3.99697153e-03 -3.60839139e-03  1.33524183e-02\n",
            " -1.67528018e-02  3.22985575e-02  1.94963459e-02  5.17098643e-02\n",
            " -7.01441765e-02  6.63300557e-03 -1.99512020e-03  1.21846031e-02\n",
            "  4.49530333e-02  1.73121449e-02 -6.77981004e-02 -6.93114428e-03\n",
            "  7.01706484e-02  7.38691613e-02 -5.04360395e-03  4.02460899e-03\n",
            " -5.11209061e-03  2.79284697e-02  1.18630193e-01 -9.18398611e-03\n",
            " -5.27430847e-02 -1.57658989e-03 -2.13634521e-02 -2.42246315e-02\n",
            "  1.68614332e-02 -4.14553769e-02  4.79067527e-02 -1.98081657e-02\n",
            "  1.95271615e-02  1.25079341e-02  7.48718996e-03 -9.79164802e-03\n",
            " -2.59429328e-02 -5.54569624e-02  3.50879915e-02  2.66577490e-02\n",
            " -6.62964284e-02 -2.78368536e-02  3.11759505e-02  6.56697899e-02\n",
            " -4.75482130e-03  1.65151544e-02  5.00267744e-02  9.20211617e-03\n",
            "  1.47450939e-01 -1.83955077e-02 -3.24506201e-02  6.62163720e-02\n",
            "  4.35607135e-02  5.23721625e-04 -9.38223079e-02  3.01647186e-02\n",
            " -3.98164876e-02 -1.18335254e-01  8.67193285e-03 -6.56559244e-02\n",
            " -6.40371069e-02 -4.46581244e-02 -2.50864383e-02 -2.80887093e-02\n",
            " -5.90052269e-03  2.38756672e-03 -1.53603603e-03  8.04814696e-03\n",
            "  1.19851403e-01  2.72771381e-02  5.72955236e-02  5.77263348e-02\n",
            " -1.00928932e-01 -7.97597542e-02  1.83789711e-02 -4.45044367e-03\n",
            " -3.32245976e-02 -5.71871661e-02 -6.03192411e-02  1.31851565e-02\n",
            " -5.51773310e-02 -3.25046517e-02  2.54239999e-02  8.08279887e-02\n",
            "  7.17426091e-02  1.21023934e-02 -7.51307905e-02 -9.51963942e-03\n",
            "  2.89503462e-03 -2.63058627e-03 -1.22900810e-02 -4.33856156e-04\n",
            "  1.34855174e-02  6.29760846e-02  1.19432114e-01 -3.47525403e-02\n",
            "  8.87411237e-02 -2.30666064e-02  2.65365839e-02 -1.68891177e-02\n",
            "  9.29091498e-02 -1.13405682e-01  2.53531560e-02 -4.28117625e-02\n",
            "  4.98376712e-02  4.65828814e-02  2.31626630e-03 -6.75885566e-03\n",
            " -4.27609906e-02 -7.52824843e-02 -4.64051217e-02 -1.01875566e-01\n",
            "  6.29072718e-04  5.90846501e-03 -9.69036762e-03 -1.91756990e-02\n",
            "  6.95141032e-02  1.35836914e-01  9.64768976e-02 -7.81572163e-02\n",
            " -1.82402655e-02 -4.73838821e-02 -4.56159674e-02 -1.97540931e-02\n",
            "  1.37722883e-02  5.79787865e-02  1.01310976e-01 -5.96670946e-03\n",
            "  1.89751685e-02  8.72605592e-02 -2.82366145e-02  3.35501581e-02\n",
            "  3.66682075e-02 -5.47115728e-02 -2.29548682e-02  3.05099282e-02\n",
            "  9.12312593e-04 -7.61670023e-02  1.14771597e-01  9.12369043e-02\n",
            " -8.60863645e-03 -4.23721410e-02 -1.17948335e-02 -4.83511761e-02\n",
            "  2.38238201e-02  5.82420826e-02  1.02363154e-02  2.99732946e-02\n",
            " -5.21353856e-02 -5.01175784e-02  4.71512564e-02 -4.53187376e-01\n",
            "  6.04081564e-02  5.85072450e-02  2.88373139e-02 -1.18908454e-02\n",
            " -5.01491688e-03  6.96694925e-02  4.91901934e-02 -5.64505793e-02\n",
            "  1.39934681e-02  8.99215415e-03  9.61314589e-02  4.85803038e-02\n",
            "  3.48885753e-03  2.62278784e-02 -1.25052920e-03  8.30738153e-03\n",
            "  1.09221451e-02 -3.43080563e-03  8.90299603e-02 -6.23129867e-02\n",
            "  8.11416358e-02  2.44697072e-02 -1.17010467e-01 -7.10542202e-02\n",
            "  7.83163235e-02  8.76511708e-02  2.58890190e-03 -4.05721329e-02\n",
            "  2.00106185e-02 -6.76036477e-02 -2.74537206e-02  1.01944275e-01\n",
            " -3.62455398e-02  4.26767394e-02 -2.21111812e-02 -9.94222704e-03\n",
            "  2.19342541e-02  3.58439162e-02  1.36559969e-02  1.63589250e-02\n",
            "  4.34424020e-02 -6.14945814e-02  2.78845001e-02 -2.28431486e-02\n",
            "  6.94593713e-02 -3.63434735e-03 -7.79543966e-02 -2.92986166e-02\n",
            "  1.61950979e-02 -4.83452193e-02  6.04636967e-03  3.75744677e-03\n",
            "  6.79183826e-02 -4.46603969e-02 -3.62319686e-02 -1.97917018e-02\n",
            " -4.20705602e-02 -3.36927995e-02 -3.40012871e-02  3.37374918e-02\n",
            " -7.41022229e-02 -1.01359934e-02  2.11899150e-02 -8.72491486e-03\n",
            "  3.11967358e-02  9.72596556e-03  2.35651322e-02  3.44537385e-02\n",
            " -9.44523737e-02 -4.84956428e-02  3.75655340e-03 -3.57591435e-02\n",
            "  2.07976941e-02  1.13162752e-02 -3.19755487e-02  6.32667318e-02\n",
            " -8.26029032e-02  1.72339417e-02 -1.71683766e-02 -4.63377032e-03\n",
            "  4.03414220e-02 -4.70905788e-02  2.71324515e-02  3.10364626e-02\n",
            "  3.21480969e-04  7.79096261e-02 -4.36567888e-02 -2.11730916e-02\n",
            "  3.96771319e-02 -8.13296065e-02 -1.04298137e-01 -3.57217155e-02\n",
            "  2.25866660e-02 -4.02248129e-02  2.02766694e-02  5.62970415e-02\n",
            "  9.36302170e-02  4.42644581e-02 -9.03290138e-02  5.95442206e-02\n",
            " -7.78950304e-02 -6.02340102e-02  1.69659837e-03 -2.33864747e-02\n",
            " -9.29093212e-02  2.46379822e-02  4.88698669e-02 -1.34144286e-02\n",
            " -6.36188090e-02  1.21218050e-02  1.45247905e-02 -5.13240807e-02\n",
            "  4.81618382e-03  5.67834191e-02  1.14519522e-01 -2.58629420e-03]\n"
          ]
        }
      ]
    },
    {
      "cell_type": "code",
      "source": [
        "sentences = [\"Гагарин - первый в Космосе\", \"Армстронг - первый на луне\"]\n",
        "embeddings = model.encode(sentences)\n",
        "s = sentence_transformers.util.cos_sim(a=embeddings[0], b=embeddings[1])\n",
        "print('Вероятность смыслового совпадения:', s)"
      ],
      "metadata": {
        "colab": {
          "base_uri": "https://localhost:8080/"
        },
        "id": "SI7xNS5suPnp",
        "outputId": "4a21c88e-8c73-4b9b-e7f4-9a54641f2ed6"
      },
      "execution_count": null,
      "outputs": [
        {
          "output_type": "stream",
          "name": "stdout",
          "text": [
            "Вероятность смыслового совпадения: tensor([[0.7092]])\n"
          ]
        }
      ]
    },
    {
      "cell_type": "code",
      "source": [
        "sentences = [\"Кушать сушки\", \"Употреблять баранки\"]\n",
        "embeddings = model.encode(sentences)\n",
        "s = sentence_transformers.util.cos_sim(a=embeddings[0], b=embeddings[1])\n",
        "print('Вероятность смыслового совпадения:', s)"
      ],
      "metadata": {
        "colab": {
          "base_uri": "https://localhost:8080/"
        },
        "id": "jS84u3Aru7kX",
        "outputId": "78eae2e9-5b00-416b-80f4-6006f76d841e"
      },
      "execution_count": null,
      "outputs": [
        {
          "output_type": "stream",
          "name": "stdout",
          "text": [
            "Вероятность смыслового совпадения: tensor([[0.7184]])\n"
          ]
        }
      ]
    },
    {
      "cell_type": "code",
      "source": [
        "sentences = [\"Россия в беде\", \"У гитары порвалась струна\"]\n",
        "embeddings = model.encode(sentences)\n",
        "s = sentence_transformers.util.cos_sim(a=embeddings[0], b=embeddings[1])\n",
        "print('Вероятность смыслового совпадения:', s)"
      ],
      "metadata": {
        "colab": {
          "base_uri": "https://localhost:8080/"
        },
        "id": "Nmkw-sr3z4xT",
        "outputId": "aa4cdc81-f779-4a2b-9b3c-80478fe476f0"
      },
      "execution_count": null,
      "outputs": [
        {
          "output_type": "stream",
          "name": "stdout",
          "text": [
            "Вероятность смыслового совпадения: tensor([[0.0191]])\n"
          ]
        }
      ]
    },
    {
      "cell_type": "code",
      "source": [
        "sentences = [\"Он же ребёнок\", \"Он жеребёнок\"]\n",
        "embeddings = model.encode(sentences)\n",
        "s = sentence_transformers.util.cos_sim(a=embeddings[0], b=embeddings[1])\n",
        "print('Вероятность смыслового совпадения:', s)"
      ],
      "metadata": {
        "colab": {
          "base_uri": "https://localhost:8080/"
        },
        "id": "vtJYPS4HssIT",
        "outputId": "501cfd57-564b-4211-f848-b5068bd0248f"
      },
      "execution_count": null,
      "outputs": [
        {
          "output_type": "stream",
          "name": "stdout",
          "text": [
            "Вероятность смыслового совпадения: tensor([[0.7809]])\n"
          ]
        }
      ]
    },
    {
      "cell_type": "code",
      "source": [
        "sentences = [\"Бери гитару\", \"Береги тару\"]\n",
        "embeddings = model.encode(sentences)\n",
        "s = sentence_transformers.util.cos_sim(a=embeddings[0], b=embeddings[1])\n",
        "print('Вероятность смыслового совпадения:', s)"
      ],
      "metadata": {
        "colab": {
          "base_uri": "https://localhost:8080/"
        },
        "id": "XFQ8okavuIAH",
        "outputId": "f72f7c2c-1b62-466a-8deb-44804751201e"
      },
      "execution_count": null,
      "outputs": [
        {
          "output_type": "stream",
          "name": "stdout",
          "text": [
            "Вероятность смыслового совпадения: tensor([[0.7619]])\n"
          ]
        }
      ]
    },
    {
      "cell_type": "code",
      "source": [
        "sentences = [\"Ленин великий революционер\", \"Ленин предатель родины\"]\n",
        "embeddings = model.encode(sentences)\n",
        "s = sentence_transformers.util.cos_sim(a=embeddings[0], b=embeddings[1])\n",
        "print('Вероятность смыслового совпадения:', s)"
      ],
      "metadata": {
        "colab": {
          "base_uri": "https://localhost:8080/"
        },
        "id": "zb1U2AedubyQ",
        "outputId": "e5408e81-8b2b-48d8-ac9f-ba9cc1ad677d"
      },
      "execution_count": null,
      "outputs": [
        {
          "output_type": "stream",
          "name": "stdout",
          "text": [
            "Вероятность смыслового совпадения: tensor([[0.7545]])\n"
          ]
        }
      ]
    },
    {
      "cell_type": "code",
      "source": [
        "sentences = [\"Сонзнание порождает материю\", \"Материя порождает сознание\"]\n",
        "embeddings = model.encode(sentences)\n",
        "s = sentence_transformers.util.cos_sim(a=embeddings[0], b=embeddings[1])\n",
        "print('Вероятность смыслового совпадения:', s)"
      ],
      "metadata": {
        "colab": {
          "base_uri": "https://localhost:8080/"
        },
        "id": "P_pDeXz4uqhV",
        "outputId": "488afbad-236f-4e50-a58b-f1fdfe18c490"
      },
      "execution_count": null,
      "outputs": [
        {
          "output_type": "stream",
          "name": "stdout",
          "text": [
            "Вероятность смыслового совпадения: tensor([[0.9058]])\n"
          ]
        }
      ]
    },
    {
      "cell_type": "code",
      "source": [
        "sentences = [\"Сыр косичка\", \"Кыр сосичка\"]\n",
        "embeddings = model.encode(sentences)\n",
        "s = sentence_transformers.util.cos_sim(a=embeddings[0], b=embeddings[1])\n",
        "print('Вероятность смыслового совпадения:', s)"
      ],
      "metadata": {
        "colab": {
          "base_uri": "https://localhost:8080/"
        },
        "id": "jc8hwZxjv61E",
        "outputId": "f018fa79-687b-4f58-a2f5-56d1fee25aec"
      },
      "execution_count": null,
      "outputs": [
        {
          "output_type": "stream",
          "name": "stdout",
          "text": [
            "Вероятность смыслового совпадения: tensor([[0.8443]])\n"
          ]
        }
      ]
    },
    {
      "cell_type": "code",
      "source": [
        "sentences = [\"Против войны\", \"За мир\"]\n",
        "embeddings = model.encode(sentences)\n",
        "s = sentence_transformers.util.cos_sim(a=embeddings[0], b=embeddings[1])\n",
        "print('Вероятность смыслового совпадения:', s)"
      ],
      "metadata": {
        "colab": {
          "base_uri": "https://localhost:8080/"
        },
        "id": "HIWSc6X_yjIv",
        "outputId": "cea8fac2-7c39-4e5f-88e2-d31ddda3e159"
      },
      "execution_count": null,
      "outputs": [
        {
          "output_type": "stream",
          "name": "stdout",
          "text": [
            "Вероятность смыслового совпадения: tensor([[0.7367]])\n"
          ]
        }
      ]
    },
    {
      "cell_type": "code",
      "source": [
        "sentences = [\"Зов припяти\", \"Тень Чернобыля\"]\n",
        "embeddings = model.encode(sentences)\n",
        "s = sentence_transformers.util.cos_sim(a=embeddings[0], b=embeddings[1])\n",
        "print('Вероятность смыслового совпадения:', s)"
      ],
      "metadata": {
        "colab": {
          "base_uri": "https://localhost:8080/"
        },
        "id": "P8YUArCq0MZV",
        "outputId": "041a40e9-d1e8-44ba-8834-7155aae99d44"
      },
      "execution_count": null,
      "outputs": [
        {
          "output_type": "stream",
          "name": "stdout",
          "text": [
            "Вероятность смыслового совпадения: tensor([[0.5778]])\n"
          ]
        }
      ]
    }
  ]
}